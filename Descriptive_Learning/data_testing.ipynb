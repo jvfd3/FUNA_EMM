{
 "cells": [
  {
   "cell_type": "code",
   "execution_count": 4,
   "id": "8fd5d3fa",
   "metadata": {},
   "outputs": [
    {
     "name": "stdout",
     "output_type": "stream",
     "text": [
      "Current working directory: b:\\GitHub\\UFMG\\FUNA_EMM\\Descriptive_Learning\n",
      "Current working directory: b:\\GitHub\\UFMG\\FUNA_EMM\\Descriptive_Learning\n",
      "Notebook directory: b:\\GitHub\\UFMG\\FUNA_EMM\\Descriptive_Learning\\Descriptive_Learning\n"
     ]
    }
   ],
   "source": [
    "\"\"\" Print local path \"\"\"\n",
    "\n",
    "import os\n",
    "\n",
    "def print_local_path():\n",
    "    \"\"\"Prints the current working directory.\"\"\"\n",
    "    local_path = os.getcwd()\n",
    "    print(f\"Current working directory: {local_path}\")\n",
    "\n",
    "def print_notebook_directory():\n",
    "    \"\"\"Prints the directory where this notebook is located.\"\"\"\n",
    "    # Para notebooks, podemos usar uma abordagem alternativa\n",
    "    import inspect\n",
    "    import pathlib\n",
    "    \n",
    "    # Obtém o diretório atual de trabalho\n",
    "    current_dir = pathlib.Path.cwd()\n",
    "    print(f\"Current working directory: {current_dir}\")\n",
    "    \n",
    "    # Para o diretório específico do notebook, usamos o diretório atual\n",
    "    notebook_dir = current_dir / \"Descriptive_Learning\"\n",
    "    print(f\"Notebook directory: {notebook_dir}\")\n",
    "\n",
    "if __name__ == \"__main__\":\n",
    "    print_local_path()\n",
    "    print_notebook_directory()\n",
    "    # Example usage"
   ]
  },
  {
   "cell_type": "code",
   "execution_count": 6,
   "id": "649fb8cd",
   "metadata": {},
   "outputs": [],
   "source": [
    "import pandas as pd\n",
    "\n",
    "path_targ = '../data_input/FUNA/slice/target.pq'\n",
    "path_desc = '../data_input/FUNA/slice/desc.pq'\n",
    "\n",
    "df_targ = pd.read_parquet(path_targ)\n",
    "df_desc = pd.read_parquet(path_desc)"
   ]
  },
  {
   "cell_type": "code",
   "execution_count": 8,
   "id": "689e8cc4",
   "metadata": {},
   "outputs": [
    {
     "name": "stdout",
     "output_type": "stream",
     "text": [
      "Target DataFrame:\n",
      "         IDCode  PreOrd  DMStimL  DMTime\n",
      "0  f3fa-bako357       2        4     199\n",
      "1  f3fa-bako357       4        8    1105\n",
      "2  f3fa-bako357       6        3    2552\n",
      "3  f3fa-bako357       9        1    1085\n",
      "4  f3fa-bako357      15        1    1245\n",
      "\n",
      "Description DataFrame:\n",
      "         IDCode  NCAnsCsum  NCPreOrdmax  NCAnsCprop  NCtimeCmean  \\\n",
      "0  f3fa-bako357   0.916667         52.0    0.916667     0.124587   \n",
      "1  f3fa-bane815   0.937500         52.0    0.937500     0.167398   \n",
      "2   f3fa-baqy06   0.979167         52.0    0.979167     0.095500   \n",
      "3   f3fa-boky29   0.979167         52.0    0.979167     0.133777   \n",
      "4  f3fa-bolu326   0.979167         52.0    0.979167     0.139183   \n",
      "\n",
      "   NCtimeCmedian     NCIES  NCRTslopeNumDis  NCRTinterceptNumDis  \\\n",
      "0       0.170089  0.028049         0.394925             0.351265   \n",
      "1       0.257034  0.043245         0.399024             0.379670   \n",
      "2       0.168568  0.025484         0.390103             0.333689   \n",
      "3       0.214449  0.033593         0.382825             0.369720   \n",
      "4       0.221039  0.034758         0.384475             0.372100   \n",
      "\n",
      "   NCRTslopeNumRatio  ...     SSIES  CAAnsCsum  CAPreOrdmax  CAAnsCprop  \\\n",
      "0           0.426656  ...  0.164063   0.125000     0.103093    0.712610   \n",
      "1           0.432475  ...  0.169072   0.142857     0.113402    0.736559   \n",
      "2           0.425932  ...  0.162923   0.392857     0.268041    0.843887   \n",
      "3           0.413448  ...  0.166809   0.321429     0.237113    0.780466   \n",
      "4           0.414247  ...  0.167288   0.232143     0.175258    0.765830   \n",
      "\n",
      "   CAtimeCmean  CAtimeCmedian     CAIES  sex  grade  language  \n",
      "0     0.007415       0.131664  0.072136    f      3         f  \n",
      "1     0.008396       0.148368  0.083764    f      3         f  \n",
      "2     0.007508       0.134676  0.072919    f      3         f  \n",
      "3     0.007677       0.139506  0.076798    f      3         f  \n",
      "4     0.007797       0.137927  0.075934    f      3         f  \n",
      "\n",
      "[5 rows x 32 columns]\n"
     ]
    }
   ],
   "source": [
    "\"\"\" Showing data \"\"\"\n",
    "\n",
    "print(\"Target DataFrame:\")\n",
    "print(df_targ.head())\n",
    "print(\"\\nDescription DataFrame:\")\n",
    "print(df_desc.head())"
   ]
  }
 ],
 "metadata": {
  "kernelspec": {
   "display_name": "Python 3",
   "language": "python",
   "name": "python3"
  },
  "language_info": {
   "codemirror_mode": {
    "name": "ipython",
    "version": 3
   },
   "file_extension": ".py",
   "mimetype": "text/x-python",
   "name": "python",
   "nbconvert_exporter": "python",
   "pygments_lexer": "ipython3",
   "version": "3.12.4"
  }
 },
 "nbformat": 4,
 "nbformat_minor": 5
}
