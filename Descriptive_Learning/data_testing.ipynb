{
 "cells": [
  {
   "cell_type": "code",
   "execution_count": 28,
   "id": "79c558de",
   "metadata": {},
   "outputs": [],
   "source": [
    "\"\"\" Importing Libraries \"\"\"\n",
    "\n",
    "import pandas as pd\n",
    "import joblib\n",
    "import os\n",
    "import pyreadstat"
   ]
  },
  {
   "cell_type": "code",
   "execution_count": 29,
   "id": "8fd5d3fa",
   "metadata": {},
   "outputs": [
    {
     "name": "stdout",
     "output_type": "stream",
     "text": [
      "Current working directory: b:\\GitHub\\UFMG\\FUNA_EMM\\Descriptive_Learning\n",
      "Current working directory: b:\\GitHub\\UFMG\\FUNA_EMM\\Descriptive_Learning\n",
      "Notebook directory: b:\\GitHub\\UFMG\\FUNA_EMM\\Descriptive_Learning\\Descriptive_Learning\n"
     ]
    }
   ],
   "source": [
    "\"\"\" Print local path \"\"\"\n",
    "\n",
    "def print_local_path():\n",
    "    \"\"\"Prints the current working directory.\"\"\"\n",
    "    local_path = os.getcwd()\n",
    "    print(f\"Current working directory: {local_path}\")\n",
    "\n",
    "def print_notebook_directory():\n",
    "    \"\"\"Prints the directory where this notebook is located.\"\"\"\n",
    "    # Para notebooks, podemos usar uma abordagem alternativa\n",
    "    import inspect\n",
    "    import pathlib\n",
    "    \n",
    "    # Obtém o diretório atual de trabalho\n",
    "    current_dir = pathlib.Path.cwd()\n",
    "    print(f\"Current working directory: {current_dir}\")\n",
    "    \n",
    "    # Para o diretório específico do notebook, usamos o diretório atual\n",
    "    notebook_dir = current_dir / \"Descriptive_Learning\"\n",
    "    print(f\"Notebook directory: {notebook_dir}\")\n",
    "\n",
    "if __name__ == \"__main__\":\n",
    "    print_local_path()\n",
    "    print_notebook_directory()\n",
    "    # Example usage"
   ]
  },
  {
   "cell_type": "code",
   "execution_count": 34,
   "id": "6f8c4adc",
   "metadata": {},
   "outputs": [],
   "source": [
    "\"\"\" Loading Data \"\"\"\n",
    "\n",
    "def load_data(path):\n",
    "    # Método 1: Tentar com pandas (funciona para alguns arquivos SPSS)\n",
    "    try:\n",
    "        data = pd.read_spss(path)\n",
    "        print(f\"Dados carregados com pandas! Shape: {data.shape}\")\n",
    "        print(\"Primeiras linhas:\")\n",
    "        print(data.head())\n",
    "        return data\n",
    "    except Exception as e:\n",
    "        print(f\"Pandas falhou: {e}\")\n",
    "\n",
    "    # Método 2: Tentar com pyreadstat\n",
    "    try:\n",
    "        data, meta = pyreadstat.read_sav(path)\n",
    "        print(f\"Dados carregados com pyreadstat! Shape: {data.shape}\")\n",
    "        print(\"Primeiras linhas:\")\n",
    "        print(data.head())\n",
    "        return data\n",
    "    except ImportError:\n",
    "        print(\n",
    "            \"pyreadstat não está instalado. Você pode instalar com: pip install pyreadstat\")\n",
    "    except Exception as e:\n",
    "        print(f\"pyreadstat falhou: {e}\")\n",
    "\n",
    "    # Método 3: Verificar se é realmente um arquivo pickle/joblib\n",
    "    try:\n",
    "        with open(path, 'rb') as f:\n",
    "            # Verificar os primeiros bytes para determinar o tipo\n",
    "            first_bytes = f.read(10)\n",
    "            print(f\"Primeiros bytes do arquivo: {first_bytes}\")\n",
    "\n",
    "        # Se chegou até aqui, tentar joblib mesmo assim\n",
    "        data = joblib.load(path)\n",
    "        print(f\"Dados carregados com joblib! Shape: {data.shape}\")\n",
    "        print(data.head())\n",
    "        return data\n",
    "    except Exception as e:\n",
    "        print(f\"Joblib também falhou: {e}\")\n",
    "\n",
    "    print(\"Todos os métodos falharam. Este pode ser um arquivo SPSS que precisa de tratamento especial.\")\n",
    "    return None"
   ]
  },
  {
   "cell_type": "code",
   "execution_count": 36,
   "id": "649fb8cd",
   "metadata": {},
   "outputs": [],
   "source": [
    "\"\"\" Importing FUNA \"\"\"\n",
    "\n",
    "funa_path = '../data_input/FUNA/slice/'\n",
    "\n",
    "path_targ = funa_path + 'target.pq'\n",
    "path_desc = funa_path + 'desc.pq'\n",
    "\n",
    "df_targ = pd.read_parquet(path_targ)\n",
    "df_desc = pd.read_parquet(path_desc)"
   ]
  },
  {
   "cell_type": "code",
   "execution_count": 56,
   "id": "fe8b8fb3",
   "metadata": {},
   "outputs": [
    {
     "name": "stdout",
     "output_type": "stream",
     "text": [
      "=== Carregando CurranData.sav ===\n",
      "Tentando carregar: ../data_input/Curran/CurranData.sav\n",
      "Dados carregados com pandas! Shape: (405, 15)\n",
      "Primeiras linhas:\n",
      "      id  anti1  anti2  anti3  anti4  read1  read2  read3  read4 kidgen  \\\n",
      "0   22.0    1.0    2.0    NaN    NaN    2.1    3.9    NaN    NaN   girl   \n",
      "1   34.0    3.0    6.0    4.0    5.0    2.1    2.9    4.5    4.5    boy   \n",
      "2   58.0    0.0    2.0    0.0    1.0    2.3    4.5    4.2    4.6   girl   \n",
      "3  122.0    0.0    3.0    1.0    1.0    3.7    8.0    NaN    NaN    boy   \n",
      "4  125.0    1.0    1.0    2.0    1.0    2.3    3.8    4.3    6.2   girl   \n",
      "\n",
      "   momage  kidage  homecog  homeemo  nmis  \n",
      "0    28.0    6.08     13.0     10.0   4.0  \n",
      "1    28.0    6.83      9.0      9.0   0.0  \n",
      "2    28.0    6.50      9.0      6.0   0.0  \n",
      "3    28.0    7.83     13.0     10.0   2.0  \n",
      "4    29.0    7.42     10.0      8.0   0.0  \n",
      "\n",
      "=== Carregando CurranLong.sav ===\n",
      "Tentando carregar: ../data_input/Curran/CurranLong.sav\n",
      "Dados carregados com pandas! Shape: (1393, 14)\n",
      "Primeiras linhas:\n",
      "     id kidgen  momage  kidage  homecog  homeemo  occasion  anti  read  \\\n",
      "0  22.0   girl    28.0    6.08     13.0     10.0       0.0   1.0   2.1   \n",
      "1  22.0   girl    28.0    6.08     13.0     10.0       1.0   2.0   3.9   \n",
      "2  34.0    boy    28.0    6.83      9.0      9.0       0.0   3.0   2.1   \n",
      "3  34.0    boy    28.0    6.83      9.0      9.0       1.0   6.0   2.9   \n",
      "4  34.0    boy    28.0    6.83      9.0      9.0       2.0   4.0   4.5   \n",
      "\n",
      "   kidagetv  kidage6  kidagesq     kidagec  occasion2  \n",
      "0      6.08     0.08    0.0064    0.000512        0.0  \n",
      "1      8.08     2.08    4.3264    8.998912        1.0  \n",
      "2      6.83     0.83    0.6889    0.571787        0.0  \n",
      "3      8.83     2.83    8.0089   22.665187        1.0  \n",
      "4     10.83     4.83   23.3289  112.678587        4.0  \n"
     ]
    }
   ],
   "source": [
    "\"\"\" Carregando dados Curran - Versão Corrigida \"\"\"\n",
    "\n",
    "CURRAN_DATA_PATH = '../data_input/Curran/'\n",
    "\n",
    "def load_curran_sav_data(file_name):\n",
    "    \"\"\"Load Curran .sav data file with correct path and filename.\"\"\"\n",
    "    sav_path = CURRAN_DATA_PATH + file_name + '.sav'\n",
    "    \n",
    "    if not os.path.exists(sav_path):\n",
    "        print(f\"Arquivo não encontrado: {sav_path}\")\n",
    "        return None\n",
    "    \n",
    "    print(f\"Tentando carregar: {sav_path}\")\n",
    "    loaded_data = load_data(sav_path)\n",
    "    return loaded_data\n",
    "\n",
    "# Tentar carregar os arquivos\n",
    "print(\"=== Carregando CurranData.sav ===\")\n",
    "curran_data = load_curran_sav_data('CurranData')\n",
    "\n",
    "print(\"\\n=== Carregando CurranLong.sav ===\")\n",
    "curran_long = load_curran_sav_data('CurranLong')"
   ]
  },
  {
   "cell_type": "code",
   "execution_count": 58,
   "id": "e65660ff",
   "metadata": {},
   "outputs": [],
   "source": [
    "\"\"\" Loading Curran parquet files \"\"\"\n",
    "\n",
    "curran_parquet = {\n",
    "    'desc': pd.read_parquet(CURRAN_DATA_PATH + 'data/desc.pq'),\n",
    "    'long': pd.read_parquet(CURRAN_DATA_PATH + 'data/long.pq'),\n",
    "    'target': pd.read_parquet(CURRAN_DATA_PATH + 'data/target.pq'),\n",
    "    'wide': pd.read_parquet(CURRAN_DATA_PATH + 'data/wide.pq')\n",
    "}"
   ]
  },
  {
   "cell_type": "code",
   "execution_count": 70,
   "id": "09fef06d",
   "metadata": {},
   "outputs": [],
   "source": [
    "\"\"\" Showing data info \"\"\"\n",
    "\n",
    "def show_data_info(df):\n",
    "    \"\"\"Prints the shape and data types of the DataFrame.\"\"\"\n",
    "    print(f\"DataFrame shape: {df.shape}\")\n",
    "    # Group data types and list the columns for each type\n",
    "    grouped_types = df.dtypes.value_counts()\n",
    "    print(\"Grouped data types:\")\n",
    "    for dtype, count in grouped_types.items():\n",
    "        cols = df.columns[df.dtypes == dtype].tolist()\n",
    "        sorted_cols = sorted(cols)\n",
    "        string_cols = ', '.join(sorted_cols)\n",
    "        print(f\"\\t{dtype}: {count} columns -> [{string_cols}]\")"
   ]
  },
  {
   "cell_type": "code",
   "execution_count": 64,
   "id": "ba747a9e",
   "metadata": {},
   "outputs": [
    {
     "name": "stdout",
     "output_type": "stream",
     "text": [
      "\n",
      "Target DataFrame Info:\n",
      "DataFrame shape: (13135, 4)\n",
      "\n",
      "Grouped data types:\n",
      "int64: 3 columns -> [DMStimL, DMTime, PreOrd]\n",
      "object: 1 columns -> [IDCode]\n",
      "\n",
      "Description DataFrame Info:\n",
      "DataFrame shape: (774, 32)\n",
      "\n",
      "Grouped data types:\n",
      "float64: 28 columns -> [CAAnsCprop, CAAnsCsum, CAIES, CAPreOrdmax, CAtimeCmean, CAtimeCmedian, NCAnsCprop, NCAnsCsum, NCIES, NCPreOrdmax, NCRTinterceptNumDis, NCRTinterceptNumRatio, NCRTslopeNumDis, NCRTslopeNumRatio, NCtimeCmean, NCtimeCmedian, SAAnsCprop, SAAnsCsum, SAIES, SAPreOrdmax, SAtimeCmean, SAtimeCmedian, SSAnsCprop, SSAnsCsum, SSIES, SSPreOrdmax, SStimeCmean, SStimeCmedian]\n",
      "object: 3 columns -> [IDCode, language, sex]\n",
      "category: 1 columns -> [grade]\n"
     ]
    }
   ],
   "source": [
    "\"\"\" Exploring FUNA data \"\"\"\n",
    "\n",
    "if df_targ is not None:\n",
    "    print(\"\\nTarget DataFrame Info:\")\n",
    "    show_data_info(df_targ)\n",
    "if df_desc is not None:\n",
    "    print(\"\\nDescription DataFrame Info:\")\n",
    "    show_data_info(df_desc)"
   ]
  },
  {
   "cell_type": "code",
   "execution_count": 74,
   "id": "91b9efdb",
   "metadata": {},
   "outputs": [
    {
     "name": "stdout",
     "output_type": "stream",
     "text": [
      "\n",
      "CurranData Info:\n",
      "DataFrame shape: (405, 15)\n",
      "Grouped data types:\n",
      "\tfloat64: 14 columns -> [anti1, anti2, anti3, anti4, homecog, homeemo, id, kidage, momage, nmis, read1, read2, read3, read4]\n",
      "\tcategory: 1 columns -> [kidgen]\n",
      "\n",
      "CurranLong Info:\n",
      "DataFrame shape: (1393, 14)\n",
      "Grouped data types:\n",
      "\tfloat64: 13 columns -> [anti, homecog, homeemo, id, kidage, kidage6, kidagec, kidagesq, kidagetv, momage, occasion, occasion2, read]\n",
      "\tcategory: 1 columns -> [kidgen]\n"
     ]
    }
   ],
   "source": [
    "\"\"\" Exploring curran data \"\"\"\n",
    "\n",
    "# Exibir informações dos DataFrames carregados\n",
    "if curran_data is not None:\n",
    "    print(\"\\nCurranData Info:\")\n",
    "    show_data_info(curran_data)\n",
    "\n",
    "if curran_long is not None:\n",
    "    print(\"\\nCurranLong Info:\")\n",
    "    show_data_info(curran_long)"
   ]
  },
  {
   "cell_type": "markdown",
   "id": "5d3e20c7",
   "metadata": {},
   "source": [
    "## Showing Heads"
   ]
  },
  {
   "cell_type": "code",
   "execution_count": 51,
   "id": "8699c7da",
   "metadata": {},
   "outputs": [],
   "source": [
    "\"\"\" Checking heads of DataFrames \"\"\"\n",
    "\n",
    "def print_dataframe_head(df, num_rows=5):\n",
    "    \"\"\"Prints the first few rows of the DataFrame.\"\"\"\n",
    "    data_frame_rows = df.shape[0]\n",
    "    print(f\"\\nFirst {num_rows} rows of the {data_frame_rows} rows DataFrame:\")\n",
    "    print(df.head(num_rows))\n"
   ]
  },
  {
   "cell_type": "markdown",
   "id": "730da9e9",
   "metadata": {},
   "source": [
    "### Curran\n"
   ]
  },
  {
   "cell_type": "code",
   "execution_count": 66,
   "id": "c82ea454",
   "metadata": {},
   "outputs": [
    {
     "name": "stdout",
     "output_type": "stream",
     "text": [
      "\n",
      "First 5 rows of the 405 rows DataFrame:\n",
      "      id  anti1  anti2  anti3  anti4  read1  read2  read3  read4 kidgen  \\\n",
      "0   22.0    1.0    2.0    NaN    NaN    2.1    3.9    NaN    NaN   girl   \n",
      "1   34.0    3.0    6.0    4.0    5.0    2.1    2.9    4.5    4.5    boy   \n",
      "2   58.0    0.0    2.0    0.0    1.0    2.3    4.5    4.2    4.6   girl   \n",
      "3  122.0    0.0    3.0    1.0    1.0    3.7    8.0    NaN    NaN    boy   \n",
      "4  125.0    1.0    1.0    2.0    1.0    2.3    3.8    4.3    6.2   girl   \n",
      "\n",
      "   momage  kidage  homecog  homeemo  nmis  \n",
      "0    28.0    6.08     13.0     10.0   4.0  \n",
      "1    28.0    6.83      9.0      9.0   0.0  \n",
      "2    28.0    6.50      9.0      6.0   0.0  \n",
      "3    28.0    7.83     13.0     10.0   2.0  \n",
      "4    29.0    7.42     10.0      8.0   0.0  \n"
     ]
    }
   ],
   "source": [
    "\"\"\" Curran Data \"\"\"\n",
    "\n",
    "if curran_data is not None:\n",
    "    print_dataframe_head(curran_data)"
   ]
  },
  {
   "cell_type": "code",
   "execution_count": 67,
   "id": "40f9be39",
   "metadata": {},
   "outputs": [
    {
     "name": "stdout",
     "output_type": "stream",
     "text": [
      "\n",
      "First 5 rows of the 1393 rows DataFrame:\n",
      "     id kidgen  momage  kidage  homecog  homeemo  occasion  anti  read  \\\n",
      "0  22.0   girl    28.0    6.08     13.0     10.0       0.0   1.0   2.1   \n",
      "1  22.0   girl    28.0    6.08     13.0     10.0       1.0   2.0   3.9   \n",
      "2  34.0    boy    28.0    6.83      9.0      9.0       0.0   3.0   2.1   \n",
      "3  34.0    boy    28.0    6.83      9.0      9.0       1.0   6.0   2.9   \n",
      "4  34.0    boy    28.0    6.83      9.0      9.0       2.0   4.0   4.5   \n",
      "\n",
      "   kidagetv  kidage6  kidagesq     kidagec  occasion2  \n",
      "0      6.08     0.08    0.0064    0.000512        0.0  \n",
      "1      8.08     2.08    4.3264    8.998912        1.0  \n",
      "2      6.83     0.83    0.6889    0.571787        0.0  \n",
      "3      8.83     2.83    8.0089   22.665187        1.0  \n",
      "4     10.83     4.83   23.3289  112.678587        4.0  \n"
     ]
    }
   ],
   "source": [
    "\"\"\" Curran Long \"\"\"\n",
    "\n",
    "if curran_long is not None:\n",
    "    print_dataframe_head(curran_long)"
   ]
  },
  {
   "cell_type": "markdown",
   "id": "2f7e1dc3",
   "metadata": {},
   "source": [
    "### Curran Parquets\n"
   ]
  },
  {
   "cell_type": "code",
   "execution_count": 71,
   "id": "03d3c88d",
   "metadata": {},
   "outputs": [
    {
     "name": "stdout",
     "output_type": "stream",
     "text": [
      "\n",
      "=== Desc DataFrame ===\n",
      "DataFrame shape: (405, 17)\n",
      "Grouped data types:\n",
      "\tfloat64: 16 columns -> [homecog, homeemo, kidgen, max_age, max_cog, max_emo, min_age, min_cog, min_emo, momage, slope_age, slope_cog, slope_emo, sum_age, sum_cog, sum_emo]\n",
      "\tobject: 1 columns -> [id]\n",
      "\n",
      "=== Long DataFrame ===\n",
      "DataFrame shape: (1325, 8)\n",
      "Grouped data types:\n",
      "\tfloat64: 7 columns -> [homecog, homeemo, intcog, kidagetv, kidgen, momage, occasion]\n",
      "\tobject: 1 columns -> [id]\n",
      "\n",
      "=== Target DataFrame ===\n",
      "DataFrame shape: (1325, 4)\n",
      "Grouped data types:\n",
      "\tfloat64: 3 columns -> [kidagetv, occasion, read]\n",
      "\tobject: 1 columns -> [id]\n",
      "\n",
      "=== Wide DataFrame ===\n",
      "DataFrame shape: (405, 18)\n",
      "Grouped data types:\n",
      "\tfloat64: 17 columns -> [homecog, homeemo, intage_0, intage_1, intage_2, intage_3, intcog_0, intcog_1, intcog_2, intcog_3, intemo_0, intemo_1, intemo_2, intemo_3, kidage, kidgen, momage]\n",
      "\tobject: 1 columns -> [id]\n"
     ]
    }
   ],
   "source": [
    "\"\"\" Curran Parquets \"\"\"\n",
    "\n",
    "for key, df in curran_parquet.items():\n",
    "    print(f\"\\n=== {key.capitalize()} DataFrame ===\")\n",
    "    show_data_info(df)\n",
    "    # print_dataframe_head(df)"
   ]
  },
  {
   "cell_type": "code",
   "execution_count": 73,
   "id": "d4ef74d7",
   "metadata": {},
   "outputs": [
    {
     "name": "stdout",
     "output_type": "stream",
     "text": [
      "\n",
      "First 5 rows of the 405 rows DataFrame:\n",
      "      id  kidgen  momage  kidage  homecog  homeemo  intage_0  intage_1  \\\n",
      "0   id22     1.0    28.0    6.08     13.0     10.0    170.24    226.24   \n",
      "1   id34     0.0    28.0    6.83      9.0      9.0    191.24    247.24   \n",
      "2   id58     1.0    28.0    6.50      9.0      6.0    182.00    238.00   \n",
      "3  id122     0.0    28.0    7.83     13.0     10.0    219.24    275.24   \n",
      "4  id125     1.0    29.0    7.42     10.0      8.0    215.18    273.18   \n",
      "\n",
      "   intage_2  intage_3  intemo_0  intemo_1  intemo_2  intemo_3  intcog_0  \\\n",
      "0       NaN       NaN     60.80     80.80       NaN       NaN     79.04   \n",
      "1    303.24    359.24     61.47     79.47     97.47    115.47     61.47   \n",
      "2    294.00    350.00     39.00     51.00     63.00     75.00     58.50   \n",
      "3       NaN       NaN     78.30     98.30       NaN       NaN    101.79   \n",
      "4    331.18    389.18     59.36     75.36     91.36    107.36     74.20   \n",
      "\n",
      "   intcog_1  intcog_2  intcog_3  \n",
      "0    105.04       NaN       NaN  \n",
      "1     79.47     97.47    115.47  \n",
      "2     76.50     94.50    112.50  \n",
      "3    127.79       NaN       NaN  \n",
      "4     94.20    114.20    134.20  \n"
     ]
    }
   ],
   "source": [
    "\"\"\" Heads of Curran Parquets: desc \"\"\"\n",
    "\n",
    "print_dataframe_head(curran_parquet['wide'])"
   ]
  },
  {
   "cell_type": "markdown",
   "id": "8d24ffe9",
   "metadata": {},
   "source": [
    "### FUNA"
   ]
  },
  {
   "cell_type": "code",
   "execution_count": 54,
   "id": "9b668183",
   "metadata": {},
   "outputs": [
    {
     "name": "stdout",
     "output_type": "stream",
     "text": [
      "\n",
      "First 5 rows of the 774 rows DataFrame:\n",
      "         IDCode  NCAnsCsum  NCPreOrdmax  NCAnsCprop  NCtimeCmean  \\\n",
      "0  f3fa-bako357   0.916667         52.0    0.916667     0.124587   \n",
      "1  f3fa-bane815   0.937500         52.0    0.937500     0.167398   \n",
      "2   f3fa-baqy06   0.979167         52.0    0.979167     0.095500   \n",
      "3   f3fa-boky29   0.979167         52.0    0.979167     0.133777   \n",
      "4  f3fa-bolu326   0.979167         52.0    0.979167     0.139183   \n",
      "\n",
      "   NCtimeCmedian     NCIES  NCRTslopeNumDis  NCRTinterceptNumDis  \\\n",
      "0       0.170089  0.028049         0.394925             0.351265   \n",
      "1       0.257034  0.043245         0.399024             0.379670   \n",
      "2       0.168568  0.025484         0.390103             0.333689   \n",
      "3       0.214449  0.033593         0.382825             0.369720   \n",
      "4       0.221039  0.034758         0.384475             0.372100   \n",
      "\n",
      "   NCRTslopeNumRatio  ...     SSIES  CAAnsCsum  CAPreOrdmax  CAAnsCprop  \\\n",
      "0           0.426656  ...  0.164063   0.125000     0.103093    0.712610   \n",
      "1           0.432475  ...  0.169072   0.142857     0.113402    0.736559   \n",
      "2           0.425932  ...  0.162923   0.392857     0.268041    0.843887   \n",
      "3           0.413448  ...  0.166809   0.321429     0.237113    0.780466   \n",
      "4           0.414247  ...  0.167288   0.232143     0.175258    0.765830   \n",
      "\n",
      "   CAtimeCmean  CAtimeCmedian     CAIES  sex  grade  language  \n",
      "0     0.007415       0.131664  0.072136    f      3         f  \n",
      "1     0.008396       0.148368  0.083764    f      3         f  \n",
      "2     0.007508       0.134676  0.072919    f      3         f  \n",
      "3     0.007677       0.139506  0.076798    f      3         f  \n",
      "4     0.007797       0.137927  0.075934    f      3         f  \n",
      "\n",
      "[5 rows x 32 columns]\n"
     ]
    }
   ],
   "source": [
    "\"\"\" FUNA DESC \"\"\"\n",
    "\n",
    "if df_desc is not None:\n",
    "    print_dataframe_head(df_desc)"
   ]
  },
  {
   "cell_type": "code",
   "execution_count": 55,
   "id": "919c4a69",
   "metadata": {},
   "outputs": [
    {
     "name": "stdout",
     "output_type": "stream",
     "text": [
      "\n",
      "First 5 rows of the 13135 rows DataFrame:\n",
      "         IDCode  PreOrd  DMStimL  DMTime\n",
      "0  f3fa-bako357       2        4     199\n",
      "1  f3fa-bako357       4        8    1105\n",
      "2  f3fa-bako357       6        3    2552\n",
      "3  f3fa-bako357       9        1    1085\n",
      "4  f3fa-bako357      15        1    1245\n"
     ]
    }
   ],
   "source": [
    "\"\"\" FUNA TARGET \"\"\"\n",
    "\n",
    "# Exibir as primeiras linhas dos DataFrames\n",
    "if df_targ is not None:\n",
    "    print_dataframe_head(df_targ)"
   ]
  },
  {
   "cell_type": "code",
   "execution_count": 78,
   "id": "481ca578",
   "metadata": {},
   "outputs": [
    {
     "name": "stdout",
     "output_type": "stream",
     "text": [
      "=== Análise da coluna 'kidgen' ===\n",
      "\n",
      "FUNA DESC - grade:\n",
      "Tipo: category\n",
      "Valores únicos: ['3', '4', '5', '6', '7', '8', '9']\n",
      "Categories (7, object): ['3', '4', '5', '6', '7', '8', '9']\n",
      "Contagem de valores:\n",
      "grade\n",
      "3    241\n",
      "4    181\n",
      "7    164\n",
      "5     69\n",
      "6     65\n",
      "8     40\n",
      "9     14\n",
      "Name: count, dtype: int64\n",
      "Categorias: Index(['3', '4', '5', '6', '7', '8', '9'], dtype='object')\n"
     ]
    }
   ],
   "source": [
    "\"\"\" Explorando a coluna categórica 'kidgen' \"\"\"\n",
    "\n",
    "print(\"=== Análise da coluna 'kidgen' ===\")\n",
    "\n",
    "# Verificar nos dados originais (SPSS)\n",
    "# if curran_data is not None:\n",
    "#     print(\"\\nCurranData - kidgen:\")\n",
    "#     print(f\"Tipo: {curran_data['kidgen'].dtype}\")\n",
    "#     print(f\"Valores únicos: {curran_data['kidgen'].unique()}\")\n",
    "#     print(f\"Contagem de valores:\")\n",
    "#     print(curran_data['kidgen'].value_counts())\n",
    "#     print(f\"Categorias: {curran_data['kidgen'].cat.categories if hasattr(curran_data['kidgen'], 'cat') else 'N/A'}\")\n",
    "\n",
    "# if curran_long is not None:\n",
    "#     print(\"\\nCurranLong - kidgen:\")\n",
    "#     print(f\"Tipo: {curran_long['kidgen'].dtype}\")\n",
    "#     print(f\"Valores únicos: {curran_long['kidgen'].unique()}\")\n",
    "#     print(f\"Contagem de valores:\")\n",
    "#     print(curran_long['kidgen'].value_counts())\n",
    "#     print(f\"Categorias: {curran_long['kidgen'].cat.categories if hasattr(curran_long['kidgen'], 'cat') else 'N/A'}\")\n",
    "\n",
    "# FUNA DESC\n",
    "if df_desc is not None:\n",
    "    print(\"\\nFUNA DESC - grade:\")\n",
    "    print(f\"Tipo: {df_desc['grade'].dtype}\")\n",
    "    print(f\"Valores únicos: {df_desc['grade'].unique()}\")\n",
    "    print(f\"Contagem de valores:\")\n",
    "    print(df_desc['grade'].value_counts())\n",
    "    print(f\"Categorias: {df_desc['grade'].cat.categories if hasattr(df_desc['grade'], 'cat') else 'N/A'}\")\n"
   ]
  }
 ],
 "metadata": {
  "kernelspec": {
   "display_name": "Python 3",
   "language": "python",
   "name": "python3"
  },
  "language_info": {
   "codemirror_mode": {
    "name": "ipython",
    "version": 3
   },
   "file_extension": ".py",
   "mimetype": "text/x-python",
   "name": "python",
   "nbconvert_exporter": "python",
   "pygments_lexer": "ipython3",
   "version": "3.12.4"
  }
 },
 "nbformat": 4,
 "nbformat_minor": 5
}
